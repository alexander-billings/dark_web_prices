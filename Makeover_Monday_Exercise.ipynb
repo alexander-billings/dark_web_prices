{
  "nbformat": 4,
  "nbformat_minor": 0,
  "metadata": {
    "colab": {
      "name": "Makeover_Monday_Exercise.ipynb",
      "provenance": [],
      "authorship_tag": "ABX9TyNHMOO0Q4xVV0EVB94f9GhV",
      "include_colab_link": true
    },
    "kernelspec": {
      "name": "python3",
      "display_name": "Python 3"
    },
    "language_info": {
      "name": "python"
    }
  },
  "cells": [
    {
      "cell_type": "markdown",
      "metadata": {
        "id": "view-in-github",
        "colab_type": "text"
      },
      "source": [
        "<a href=\"https://colab.research.google.com/github/alexander-billings/dark_web_prices/blob/main/Makeover_Monday_Exercise.ipynb\" target=\"_parent\"><img src=\"https://colab.research.google.com/assets/colab-badge.svg\" alt=\"Open In Colab\"/></a>"
      ]
    },
    {
      "cell_type": "markdown",
      "metadata": {
        "id": "TBHEEO-kTOPt"
      },
      "source": [
        "##Makeover Monday Challenge\n",
        "\n",
        "The purpose of this notebook is to take an existing dataset and visualization, then improve upon it. The attached article mostly had tables to show data so I would like to take the opportunity to create some visualizations to accompany them.\n",
        "\n",
        "Original Data: https://www.privacyaffairs.com/dark-web-price-index-2021/"
      ]
    },
    {
      "cell_type": "markdown",
      "metadata": {
        "id": "lCUnZsMpTRTV"
      },
      "source": [
        "## Setup"
      ]
    },
    {
      "cell_type": "code",
      "metadata": {
        "id": "pCCZTDIZN08b"
      },
      "source": [
        "import matplotlib.ticker as mtick\n",
        "import matplotlib.pyplot as plt\n",
        "import seaborn as sns\n",
        "import pandas as pd\n",
        "import numpy as np\n",
        "\n",
        "filename = \"https://docs.google.com/spreadsheets/d/e/2PACX-1vTM_i-rKg8OqVooIkDZJLS1Cqpufu91OGoB8bbKfeH6cnoBoR3Rdjw9gTYZt_QGTSQ-EenJc8pAEK8Z/pub?output=csv\"\n",
        "df = pd.read_csv(filename)"
      ],
      "execution_count": 72,
      "outputs": []
    },
    {
      "cell_type": "code",
      "metadata": {
        "colab": {
          "base_uri": "https://localhost:8080/",
          "height": 205
        },
        "id": "Hst3O5kCODF9",
        "outputId": "572bdb39-3df8-4885-f237-ebcae6ed31b8"
      },
      "source": [
        "df.head()"
      ],
      "execution_count": 2,
      "outputs": [
        {
          "output_type": "execute_result",
          "data": {
            "text/html": [
              "<div>\n",
              "<style scoped>\n",
              "    .dataframe tbody tr th:only-of-type {\n",
              "        vertical-align: middle;\n",
              "    }\n",
              "\n",
              "    .dataframe tbody tr th {\n",
              "        vertical-align: top;\n",
              "    }\n",
              "\n",
              "    .dataframe thead th {\n",
              "        text-align: right;\n",
              "    }\n",
              "</style>\n",
              "<table border=\"1\" class=\"dataframe\">\n",
              "  <thead>\n",
              "    <tr style=\"text-align: right;\">\n",
              "      <th></th>\n",
              "      <th>category</th>\n",
              "      <th>product</th>\n",
              "      <th>avg_dark_web_price_usd</th>\n",
              "    </tr>\n",
              "  </thead>\n",
              "  <tbody>\n",
              "    <tr>\n",
              "      <th>0</th>\n",
              "      <td>Credit Card Data</td>\n",
              "      <td>Cloned Mastercard with PIN</td>\n",
              "      <td>25</td>\n",
              "    </tr>\n",
              "    <tr>\n",
              "      <th>1</th>\n",
              "      <td>Credit Card Data</td>\n",
              "      <td>Cloned American Express with PIN</td>\n",
              "      <td>35</td>\n",
              "    </tr>\n",
              "    <tr>\n",
              "      <th>2</th>\n",
              "      <td>Credit Card Data</td>\n",
              "      <td>Cloned VISA with PIN</td>\n",
              "      <td>25</td>\n",
              "    </tr>\n",
              "    <tr>\n",
              "      <th>3</th>\n",
              "      <td>Credit Card Data</td>\n",
              "      <td>Credit card details, account balance up to $1,000</td>\n",
              "      <td>150</td>\n",
              "    </tr>\n",
              "    <tr>\n",
              "      <th>4</th>\n",
              "      <td>Credit Card Data</td>\n",
              "      <td>Credit card details, account balance up to $5,000</td>\n",
              "      <td>240</td>\n",
              "    </tr>\n",
              "  </tbody>\n",
              "</table>\n",
              "</div>"
            ],
            "text/plain": [
              "           category  ... avg_dark_web_price_usd\n",
              "0  Credit Card Data  ...                     25\n",
              "1  Credit Card Data  ...                     35\n",
              "2  Credit Card Data  ...                     25\n",
              "3  Credit Card Data  ...                    150\n",
              "4  Credit Card Data  ...                    240\n",
              "\n",
              "[5 rows x 3 columns]"
            ]
          },
          "metadata": {},
          "execution_count": 2
        }
      ]
    },
    {
      "cell_type": "code",
      "metadata": {
        "colab": {
          "base_uri": "https://localhost:8080/"
        },
        "id": "4EgSAeaKOOlr",
        "outputId": "1738389a-e604-4e94-f505-958df32da825"
      },
      "source": [
        "df.info"
      ],
      "execution_count": 3,
      "outputs": [
        {
          "output_type": "execute_result",
          "data": {
            "text/plain": [
              "<bound method DataFrame.info of              category  ... avg_dark_web_price_usd\n",
              "0    Credit Card Data  ...                     25\n",
              "1    Credit Card Data  ...                     35\n",
              "2    Credit Card Data  ...                     25\n",
              "3    Credit Card Data  ...                    150\n",
              "4    Credit Card Data  ...                    240\n",
              "..                ...  ...                    ...\n",
              "123      DDOS Attacks  ...                     50\n",
              "124      DDOS Attacks  ...                    500\n",
              "125      DDOS Attacks  ...                   1000\n",
              "126      DDOS Attacks  ...                    320\n",
              "127      DDOS Attacks  ...                    200\n",
              "\n",
              "[128 rows x 3 columns]>"
            ]
          },
          "metadata": {},
          "execution_count": 3
        }
      ]
    },
    {
      "cell_type": "markdown",
      "metadata": {
        "id": "WPo8GnzcTz7J"
      },
      "source": [
        "## Exploratory Analysis\n",
        "\n",
        "I'm only interesting in the Credit Card Data category in this Notebook"
      ]
    },
    {
      "cell_type": "code",
      "metadata": {
        "colab": {
          "base_uri": "https://localhost:8080/"
        },
        "id": "7ur1NK5XPEPB",
        "outputId": "4afa21e8-d69d-4584-e680-b71a9261e8e4"
      },
      "source": [
        "df['category'].unique()"
      ],
      "execution_count": 4,
      "outputs": [
        {
          "output_type": "execute_result",
          "data": {
            "text/plain": [
              "array(['Credit Card Data', 'Payment processing services',\n",
              "       'Crypto Accounts', 'Social Media', 'Hacked Services',\n",
              "       'Forged Documents – Scans', 'Forged Documents – Physical',\n",
              "       'Email Database Dumps', 'Malware', 'DDOS Attacks'], dtype=object)"
            ]
          },
          "metadata": {},
          "execution_count": 4
        }
      ]
    },
    {
      "cell_type": "code",
      "metadata": {
        "colab": {
          "base_uri": "https://localhost:8080/",
          "height": 549
        },
        "id": "wwfHSSbcPPyb",
        "outputId": "2d03a1ff-5315-4793-c378-786edf3e0502"
      },
      "source": [
        "# Checking what products are available under \"Credit Card Data\"\n",
        "cc_filter = df['category'] == 'Credit Card Data'\n",
        "df[cc_filter]"
      ],
      "execution_count": 5,
      "outputs": [
        {
          "output_type": "execute_result",
          "data": {
            "text/html": [
              "<div>\n",
              "<style scoped>\n",
              "    .dataframe tbody tr th:only-of-type {\n",
              "        vertical-align: middle;\n",
              "    }\n",
              "\n",
              "    .dataframe tbody tr th {\n",
              "        vertical-align: top;\n",
              "    }\n",
              "\n",
              "    .dataframe thead th {\n",
              "        text-align: right;\n",
              "    }\n",
              "</style>\n",
              "<table border=\"1\" class=\"dataframe\">\n",
              "  <thead>\n",
              "    <tr style=\"text-align: right;\">\n",
              "      <th></th>\n",
              "      <th>category</th>\n",
              "      <th>product</th>\n",
              "      <th>avg_dark_web_price_usd</th>\n",
              "    </tr>\n",
              "  </thead>\n",
              "  <tbody>\n",
              "    <tr>\n",
              "      <th>0</th>\n",
              "      <td>Credit Card Data</td>\n",
              "      <td>Cloned Mastercard with PIN</td>\n",
              "      <td>25</td>\n",
              "    </tr>\n",
              "    <tr>\n",
              "      <th>1</th>\n",
              "      <td>Credit Card Data</td>\n",
              "      <td>Cloned American Express with PIN</td>\n",
              "      <td>35</td>\n",
              "    </tr>\n",
              "    <tr>\n",
              "      <th>2</th>\n",
              "      <td>Credit Card Data</td>\n",
              "      <td>Cloned VISA with PIN</td>\n",
              "      <td>25</td>\n",
              "    </tr>\n",
              "    <tr>\n",
              "      <th>3</th>\n",
              "      <td>Credit Card Data</td>\n",
              "      <td>Credit card details, account balance up to $1,000</td>\n",
              "      <td>150</td>\n",
              "    </tr>\n",
              "    <tr>\n",
              "      <th>4</th>\n",
              "      <td>Credit Card Data</td>\n",
              "      <td>Credit card details, account balance up to $5,000</td>\n",
              "      <td>240</td>\n",
              "    </tr>\n",
              "    <tr>\n",
              "      <th>5</th>\n",
              "      <td>Credit Card Data</td>\n",
              "      <td>Stolen online banking logins, minimum $100 on ...</td>\n",
              "      <td>40</td>\n",
              "    </tr>\n",
              "    <tr>\n",
              "      <th>6</th>\n",
              "      <td>Credit Card Data</td>\n",
              "      <td>Stolen online banking logins, minimum $2,000 o...</td>\n",
              "      <td>120</td>\n",
              "    </tr>\n",
              "    <tr>\n",
              "      <th>7</th>\n",
              "      <td>Credit Card Data</td>\n",
              "      <td>Walmart account with credit card attached</td>\n",
              "      <td>14</td>\n",
              "    </tr>\n",
              "    <tr>\n",
              "      <th>8</th>\n",
              "      <td>Credit Card Data</td>\n",
              "      <td>Hacked (Global) credit card details with CVV</td>\n",
              "      <td>35</td>\n",
              "    </tr>\n",
              "    <tr>\n",
              "      <th>9</th>\n",
              "      <td>Credit Card Data</td>\n",
              "      <td>USA hacked credit card details with CVV</td>\n",
              "      <td>17</td>\n",
              "    </tr>\n",
              "    <tr>\n",
              "      <th>10</th>\n",
              "      <td>Credit Card Data</td>\n",
              "      <td>UK hacked credit card details with CVV</td>\n",
              "      <td>20</td>\n",
              "    </tr>\n",
              "    <tr>\n",
              "      <th>11</th>\n",
              "      <td>Credit Card Data</td>\n",
              "      <td>Canada hacked credit card details with CVV</td>\n",
              "      <td>28</td>\n",
              "    </tr>\n",
              "    <tr>\n",
              "      <th>12</th>\n",
              "      <td>Credit Card Data</td>\n",
              "      <td>Australia hacked credit card details with CVV</td>\n",
              "      <td>30</td>\n",
              "    </tr>\n",
              "    <tr>\n",
              "      <th>13</th>\n",
              "      <td>Credit Card Data</td>\n",
              "      <td>Israel hacked credit card details with CVV</td>\n",
              "      <td>65</td>\n",
              "    </tr>\n",
              "    <tr>\n",
              "      <th>14</th>\n",
              "      <td>Credit Card Data</td>\n",
              "      <td>Spain hacked credit card details with CVV</td>\n",
              "      <td>40</td>\n",
              "    </tr>\n",
              "    <tr>\n",
              "      <th>15</th>\n",
              "      <td>Credit Card Data</td>\n",
              "      <td>Japan hacked credit card details with CVV</td>\n",
              "      <td>40</td>\n",
              "    </tr>\n",
              "  </tbody>\n",
              "</table>\n",
              "</div>"
            ],
            "text/plain": [
              "            category  ... avg_dark_web_price_usd\n",
              "0   Credit Card Data  ...                     25\n",
              "1   Credit Card Data  ...                     35\n",
              "2   Credit Card Data  ...                     25\n",
              "3   Credit Card Data  ...                    150\n",
              "4   Credit Card Data  ...                    240\n",
              "5   Credit Card Data  ...                     40\n",
              "6   Credit Card Data  ...                    120\n",
              "7   Credit Card Data  ...                     14\n",
              "8   Credit Card Data  ...                     35\n",
              "9   Credit Card Data  ...                     17\n",
              "10  Credit Card Data  ...                     20\n",
              "11  Credit Card Data  ...                     28\n",
              "12  Credit Card Data  ...                     30\n",
              "13  Credit Card Data  ...                     65\n",
              "14  Credit Card Data  ...                     40\n",
              "15  Credit Card Data  ...                     40\n",
              "\n",
              "[16 rows x 3 columns]"
            ]
          },
          "metadata": {},
          "execution_count": 5
        }
      ]
    },
    {
      "cell_type": "markdown",
      "metadata": {
        "id": "8LdGpXEtALBV"
      },
      "source": [
        "##Question:\n",
        "\n",
        "Is there a particular brand of card that is more valuable than others? The above data shows this is the case. Let's put it in a visualization for easier reading."
      ]
    },
    {
      "cell_type": "code",
      "metadata": {
        "id": "h4rYGDV9UPa3"
      },
      "source": [
        "# Cloned cards stand out as an interesting area\n",
        "cloned_cards = df.iloc[0:3]"
      ],
      "execution_count": 7,
      "outputs": []
    },
    {
      "cell_type": "code",
      "metadata": {
        "colab": {
          "base_uri": "https://localhost:8080/",
          "height": 295
        },
        "id": "JV6ho3ZWz7BM",
        "outputId": "d4db8f64-cb7b-4580-f251-396a9dc50caa"
      },
      "source": [
        "sns.color_palette(\"tab10\")\n",
        "ax = sns.barplot(data=cloned_cards, ci=False, y='avg_dark_web_price_usd', x='product', orient='v')\n",
        "ax.set_xticklabels(['Mastercard', 'American Express', 'Visa'])\n",
        "\n",
        "# Adds dollar sign\n",
        "fmt = '${x:.0f}'\n",
        "tick = mtick.StrMethodFormatter(fmt)\n",
        "ax.yaxis.set_major_formatter(tick) \n",
        "\n",
        "plt.title(\"Prices of Credit Cards with PINs on Dark Web\")\n",
        "plt.xlabel(\"Brand of Card\")\n",
        "plt.ylabel(\"Average Price on the Dark Web (USD)\");"
      ],
      "execution_count": 86,
      "outputs": [
        {
          "output_type": "display_data",
          "data": {
            "image/png": "[encoded data removed]",
            "text/plain": [
              "<Figure size 432x288 with 1 Axes>"
            ]
          },
          "metadata": {
            "needs_background": "light"
          }
        }
      ]
    },
    {
      "cell_type": "markdown",
      "metadata": {
        "id": "X9Ebez-5-iBC"
      },
      "source": [
        "##Conclusions\n",
        "\n",
        "* It would be interesting to know why AmEx cards are more valuable\n",
        "* Processing AmEx cards might incur higher risk of Cybercrime\n",
        "* According to [this](https://www.creditcards.com/credit-card-news/market-share-statistics/) article from creditcards.com, market share between AmEx and Mastercard are similar so market share does not seem to be the driver in value discrepency "
      ]
    }
  ]
}